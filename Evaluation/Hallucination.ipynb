{
 "cells": [
  {
   "cell_type": "code",
   "execution_count": null,
   "metadata": {
    "id": "o2x91iyo721h"
   },
   "outputs": [],
   "source": [
    "from transformers import AutoModelForSequenceClassification\n",
    "\n",
    "# Step 1: Load the model\n",
    "model = AutoModelForSequenceClassification.from_pretrained(\n",
    "    'vectara/hallucination_evaluation_model', trust_remote_code=True)"
   ]
  },
  {
   "cell_type": "code",
   "execution_count": null,
   "metadata": {
    "id": "_cgG0PYd779m"
   },
   "outputs": [],
   "source": [
    "import pandas as pd\n",
    "df = pd.read_csv(\"models_output.csv\")"
   ]
  },
  {
   "cell_type": "code",
   "execution_count": null,
   "metadata": {
    "id": "zoFRhTAt777Q"
   },
   "outputs": [],
   "source": [
    "from tqdm import tqdm\n",
    "\n",
    "# Initialize the 'confidence' column if it doesn't exist\n",
    "df[\"confidence\"] = None\n",
    "\n",
    "# Loop through the DataFrame and update confidence scores\n",
    "for i in tqdm(range(len(df))):\n",
    "    premise = df[\"Perspective-based Summary\"][i]\n",
    "    hypothesis = df[\"Prediction\"][i]\n",
    "    confidence = model.predict([(premise, hypothesis)])\n",
    "\n",
    "    # Assign the confidence score to the corresponding row\n",
    "    df.loc[i, \"confidence\"] = confidence.item()"
   ]
  },
  {
   "cell_type": "code",
   "execution_count": null,
   "metadata": {
    "id": "03HIWox8I-l8"
   },
   "outputs": [],
   "source": [
    "df['confidence'] = df['confidence'].astype(float)"
   ]
  },
  {
   "cell_type": "code",
   "execution_count": null,
   "metadata": {
    "colab": {
     "base_uri": "https://localhost:8080/"
    },
    "executionInfo": {
     "elapsed": 424,
     "status": "ok",
     "timestamp": 1731232986870,
     "user": {
      "displayName": "Subhadeep Roy",
      "userId": "17497009744531424591"
     },
     "user_tz": 0
    },
    "id": "fKRn3XotH4VW",
    "outputId": "6b6bc98e-92e8-4059-f728-28dedf3af40d"
   },
   "outputs": [],
   "source": [
    "df[\"confidence\"].mean()"
   ]
  },
  {
   "cell_type": "code",
   "execution_count": null,
   "metadata": {
    "id": "Hf9ibl22jBw9"
   },
   "outputs": [],
   "source": []
  }
 ],
 "metadata": {
  "colab": {
   "authorship_tag": "ABX9TyNMoQRHzIQBcF0fLZk3m/hK",
   "gpuType": "T4",
   "provenance": []
  },
  "kernelspec": {
   "display_name": "Python 3",
   "name": "python3"
  },
  "language_info": {
   "name": "python"
  }
 },
 "nbformat": 4,
 "nbformat_minor": 0
}
