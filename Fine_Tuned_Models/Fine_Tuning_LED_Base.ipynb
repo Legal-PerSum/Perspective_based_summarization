{
 "cells": [
  {
   "cell_type": "code",
   "execution_count": null,
   "id": "658784d7-cfdb-424e-a2b2-76f0b6b8203d",
   "metadata": {
    "id": "658784d7-cfdb-424e-a2b2-76f0b6b8203d",
    "outputId": "d23b74b4-6f21-4fee-8a44-123a73dbc89f"
   },
   "outputs": [],
   "source": [
    "!pip install pandas openpyxl"
   ]
  },
  {
   "cell_type": "code",
   "execution_count": null,
   "id": "2f05d557-a763-4d39-bf6f-79eea6e62618",
   "metadata": {
    "id": "2f05d557-a763-4d39-bf6f-79eea6e62618",
    "outputId": "779cd33b-4ebe-4f86-c9d9-67911fa46b74"
   },
   "outputs": [],
   "source": [
    "!pip install transformers"
   ]
  },
  {
   "cell_type": "code",
   "execution_count": null,
   "id": "cb9a1a21-b218-4a78-9fbf-eeed6f5da249",
   "metadata": {
    "id": "cb9a1a21-b218-4a78-9fbf-eeed6f5da249"
   },
   "outputs": [],
   "source": [
    "import numpy as np\n",
    "from transformers import AutoTokenizer"
   ]
  },
  {
   "cell_type": "code",
   "execution_count": null,
   "id": "8620b18c-5dd5-44ba-8165-1d9b4b23eb39",
   "metadata": {
    "colab": {
     "referenced_widgets": [
      "c686e979c6ac4bbdad2f79e643f32654",
      "c8228fd2630a4b18a23af2f29e837884",
      "74de4a2e85c444e38983ab29789d3e6c",
      "fcb39c81d1b64834a54c291cf8d3f027",
      "6aeae02a6ae247e8887526067f748c8e"
     ]
    },
    "id": "8620b18c-5dd5-44ba-8165-1d9b4b23eb39",
    "outputId": "d725d52b-fa14-4c54-afd9-e8fab4bf4114"
   },
   "outputs": [],
   "source": [
    "tokenizer = AutoTokenizer.from_pretrained(\"allenai/led-base-16384\")"
   ]
  },
  {
   "cell_type": "code",
   "execution_count": null,
   "id": "7313579b-4e4a-4799-833d-afdf4b4341d0",
   "metadata": {
    "id": "7313579b-4e4a-4799-833d-afdf4b4341d0"
   },
   "outputs": [],
   "source": [
    "max_input_length = 16384\n",
    "max_output_length = 750\n",
    "batch_size = 2"
   ]
  },
  {
   "cell_type": "code",
   "execution_count": null,
   "id": "e7fc4252-328d-442a-ad9e-4f62c1783836",
   "metadata": {
    "collapsed": true,
    "id": "e7fc4252-328d-442a-ad9e-4f62c1783836"
   },
   "outputs": [],
   "source": [
    "import pandas as pd\n",
    "from datasets import Dataset\n",
    "\n",
    "# Load the CSV file using pandas\n",
    "train_excel_file = pd.read_csv('train_data.csv')\n",
    "val_excel_file = pd.read_csv('val_data.csv')\n",
    "\n",
    "# Convert the pandas DataFrame to a datasets Dataset\n",
    "train_dataset = Dataset.from_pandas(train_excel_file)\n",
    "val_dataset = Dataset.from_pandas(val_excel_file)"
   ]
  },
  {
   "cell_type": "code",
   "execution_count": null,
   "id": "4c6e8bfb-45ba-43c2-b421-79f2ab1c8c15",
   "metadata": {
    "id": "4c6e8bfb-45ba-43c2-b421-79f2ab1c8c15"
   },
   "outputs": [],
   "source": [
    "def process_data_to_model_inputs(batch):\n",
    "    # tokenize the inputs and labels\n",
    "    inputs = tokenizer(\n",
    "        batch[\"Judgement\"],\n",
    "        padding=\"max_length\",\n",
    "        truncation=True,\n",
    "        max_length=max_input_length,\n",
    "        return_tensors=\"pt\",\n",
    "    )\n",
    "    outputs = tokenizer(\n",
    "        batch[\"Perspective-based Summary\"],\n",
    "        padding=\"max_length\",\n",
    "        truncation=True,\n",
    "        max_length=max_output_length,\n",
    "    )\n",
    "\n",
    "    batch[\"input_ids\"] = inputs.input_ids.tolist()  # Convert to list\n",
    "    batch[\"attention_mask\"] = inputs.attention_mask.tolist()\n",
    "\n",
    "    # create 0 global_attention_mask lists\n",
    "    batch[\"global_attention_mask\"] = [\n",
    "        [0 for _ in range(len(batch[\"input_ids\"][0]))]\n",
    "    ] * len(batch[\"input_ids\"])\n",
    "\n",
    "\n",
    "    # since above lists are references, the following line changes the 0 index for all samples\n",
    "    batch[\"global_attention_mask\"][0][0] = 1\n",
    "    batch[\"labels\"] = outputs.input_ids\n",
    "\n",
    "    # We have to make sure that the PAD token is ignored\n",
    "    batch[\"labels\"] = [  # Convert PyTorch tensor to numpy array\n",
    "        np.array([-100 if token == tokenizer.pad_token_id else token for token in labels])\n",
    "        for labels in batch[\"labels\"]\n",
    "    ]\n",
    "\n",
    "    return batch"
   ]
  },
  {
   "cell_type": "code",
   "execution_count": null,
   "id": "84b4a3c5-3ab6-4332-bc6e-27a509beff28",
   "metadata": {
    "colab": {
     "referenced_widgets": [
      "5856314555e6481bae03a1c452b4137f"
     ]
    },
    "id": "84b4a3c5-3ab6-4332-bc6e-27a509beff28",
    "outputId": "84ac15e0-7c88-460d-9721-9443a324346e"
   },
   "outputs": [],
   "source": [
    "train_dataset = train_dataset.map(\n",
    "    process_data_to_model_inputs,\n",
    "    batched=True,\n",
    "    batch_size=batch_size,\n",
    "    remove_columns=[\"Judgement\", \"Perspective-based Summary\"],\n",
    ")"
   ]
  },
  {
   "cell_type": "code",
   "execution_count": null,
   "id": "3e278ae6-f650-4bf6-8100-4ece3ab049f8",
   "metadata": {
    "colab": {
     "referenced_widgets": [
      "3f3489bb79d04a9b8f023d16effc2308"
     ]
    },
    "id": "3e278ae6-f650-4bf6-8100-4ece3ab049f8",
    "outputId": "607e4d83-31bb-4d4e-80c9-8a7665e41335"
   },
   "outputs": [],
   "source": [
    "val_dataset = val_dataset.map(\n",
    "    process_data_to_model_inputs,\n",
    "    batched=True,\n",
    "    batch_size=batch_size,\n",
    "    remove_columns=[\"Judgement\", \"Perspective-based Summary\"],\n",
    ")"
   ]
  },
  {
   "cell_type": "code",
   "execution_count": null,
   "id": "3231ac82-3db6-4c95-ac63-883b7ac8f800",
   "metadata": {
    "id": "3231ac82-3db6-4c95-ac63-883b7ac8f800",
    "outputId": "1635541a-e21d-43ae-9b52-61775a0c58e8"
   },
   "outputs": [],
   "source": [
    "train_excel_file.describe()\n",
    "val_excel_file.describe()"
   ]
  },
  {
   "cell_type": "code",
   "execution_count": null,
   "id": "813c8c01-d62d-4fdd-a574-54a652c190dd",
   "metadata": {
    "id": "813c8c01-d62d-4fdd-a574-54a652c190dd"
   },
   "outputs": [],
   "source": [
    "train_dataset.set_format(\n",
    "    type=\"torch\",\n",
    "    columns=[\"input_ids\", \"attention_mask\", \"global_attention_mask\", \"labels\"],\n",
    ")"
   ]
  },
  {
   "cell_type": "code",
   "execution_count": null,
   "id": "3cfd7c92-6522-4a98-b49d-a8a874086c48",
   "metadata": {
    "id": "3cfd7c92-6522-4a98-b49d-a8a874086c48"
   },
   "outputs": [],
   "source": [
    "val_dataset.set_format(\n",
    "    type=\"torch\",\n",
    "    columns=[\"input_ids\", \"attention_mask\", \"global_attention_mask\", \"labels\"],\n",
    ")"
   ]
  },
  {
   "cell_type": "code",
   "execution_count": null,
   "id": "dc8fbddd-a847-41c4-b200-df40527d941c",
   "metadata": {
    "id": "dc8fbddd-a847-41c4-b200-df40527d941c"
   },
   "outputs": [],
   "source": [
    "from transformers import AutoModelForSeq2SeqLM"
   ]
  },
  {
   "cell_type": "code",
   "execution_count": null,
   "id": "6e949b74-c2d9-4460-b25e-ddcbfbd4388b",
   "metadata": {
    "colab": {
     "referenced_widgets": [
      "d417b68491bc4f48800b9518573cb282"
     ]
    },
    "id": "6e949b74-c2d9-4460-b25e-ddcbfbd4388b",
    "outputId": "87db9f2e-3108-44b1-a9af-1f28d7108257"
   },
   "outputs": [],
   "source": [
    "model = AutoModelForSeq2SeqLM.from_pretrained(\"allenai/led-base-16384\", gradient_checkpointing=True, use_cache=False)"
   ]
  },
  {
   "cell_type": "code",
   "execution_count": null,
   "id": "b5e1c457-8e4d-4752-ac1f-deb9cd4dfc35",
   "metadata": {
    "id": "b5e1c457-8e4d-4752-ac1f-deb9cd4dfc35"
   },
   "outputs": [],
   "source": [
    "# set generate hyperparameters\n",
    "model.config.num_beams = 2\n",
    "model.config.max_length = max_output_length\n",
    "model.config.min_length = 300\n",
    "model.config.length_penalty = 2.0\n",
    "model.config.early_stopping = True\n",
    "model.config.no_repeat_ngram_size = 4"
   ]
  },
  {
   "cell_type": "code",
   "execution_count": null,
   "id": "29e2498f-03e1-4402-97e2-690e079c6d0f",
   "metadata": {
    "id": "29e2498f-03e1-4402-97e2-690e079c6d0f"
   },
   "outputs": [],
   "source": [
    "from transformers import Seq2SeqTrainingArguments"
   ]
  },
  {
   "cell_type": "code",
   "execution_count": null,
   "id": "f3410a48-add8-4b0c-992c-92839910a182",
   "metadata": {
    "id": "f3410a48-add8-4b0c-992c-92839910a182"
   },
   "outputs": [],
   "source": [
    "# enable fp16 apex training\n",
    "training_args = Seq2SeqTrainingArguments(\n",
    "    predict_with_generate=True,\n",
    "    evaluation_strategy=\"steps\",\n",
    "    per_device_train_batch_size=batch_size,\n",
    "    per_device_eval_batch_size=batch_size,\n",
    "    fp16=True,\n",
    "    output_dir=\"Untitled Folder\",\n",
    "    logging_steps=50,\n",
    "    save_steps=150,\n",
    "    save_total_limit=1,\n",
    "    gradient_accumulation_steps=32,\n",
    "    num_train_epochs=3,\n",
    "    warmup_steps=200,\n",
    ")"
   ]
  },
  {
   "cell_type": "code",
   "execution_count": null,
   "id": "a883256c-f9ad-48aa-b66e-899fd4417cdd",
   "metadata": {
    "id": "a883256c-f9ad-48aa-b66e-899fd4417cdd"
   },
   "outputs": [],
   "source": [
    "from transformers import Seq2SeqTrainer"
   ]
  },
  {
   "cell_type": "code",
   "execution_count": null,
   "id": "2e637977-e287-48ec-95b7-960eefdde437",
   "metadata": {
    "id": "2e637977-e287-48ec-95b7-960eefdde437",
    "outputId": "93dec87c-a268-4b99-b604-0ec5b450e2cc"
   },
   "outputs": [],
   "source": [
    "trainer = Seq2SeqTrainer(\n",
    "    model=model,\n",
    "    tokenizer=tokenizer,\n",
    "    args=training_args,\n",
    "    #compute_metrics=compute_metrics,\n",
    "    train_dataset=train_dataset,\n",
    "    eval_dataset=val_dataset\n",
    ")"
   ]
  },
  {
   "cell_type": "code",
   "execution_count": null,
   "id": "182a5775-f138-429e-bc7f-660dfcf86e01",
   "metadata": {
    "id": "182a5775-f138-429e-bc7f-660dfcf86e01",
    "outputId": "cb498ad8-b92d-41de-e0b6-fc5ff9176881"
   },
   "outputs": [],
   "source": [
    "trainer.train()"
   ]
  },
  {
   "cell_type": "code",
   "execution_count": null,
   "id": "c0122dac-8f9a-4e4c-8509-e3c1a65db7e2",
   "metadata": {
    "id": "c0122dac-8f9a-4e4c-8509-e3c1a65db7e2",
    "outputId": "1e14a6d3-f774-4094-e75f-2535bf736377"
   },
   "outputs": [],
   "source": [
    "model.save_pretrained('legal-led-pro-3')"
   ]
  },
  {
   "cell_type": "code",
   "execution_count": null,
   "id": "5e7357cd-cb4d-452b-8ef1-0ea8220dd0fa",
   "metadata": {
    "id": "5e7357cd-cb4d-452b-8ef1-0ea8220dd0fa",
    "outputId": "7ff3884c-5d7b-4f72-81af-e4324333fbd2"
   },
   "outputs": [],
   "source": [
    "tokenizer.save_pretrained('legal-led-pro-3')"
   ]
  },
  {
   "cell_type": "code",
   "execution_count": null,
   "id": "f0e728e0-e239-4bf2-a9c0-1950559feac7",
   "metadata": {
    "id": "f0e728e0-e239-4bf2-a9c0-1950559feac7",
    "outputId": "74028493-1ee8-4f9f-e69a-c9d31e5dd4f0"
   },
   "outputs": [],
   "source": [
    "!zip -r legal-led-pro-3.zip legal-led-pro-3"
   ]
  },
  {
   "cell_type": "code",
   "execution_count": null,
   "id": "ae2e7515-7f89-4345-a188-705ec3f6edca",
   "metadata": {
    "id": "ae2e7515-7f89-4345-a188-705ec3f6edca"
   },
   "outputs": [],
   "source": []
  }
 ],
 "metadata": {
  "colab": {
   "provenance": []
  },
  "kernelspec": {
   "display_name": "Python 3 (ipykernel)",
   "language": "python",
   "name": "python3"
  },
  "language_info": {
   "codemirror_mode": {
    "name": "ipython",
    "version": 3
   },
   "file_extension": ".py",
   "mimetype": "text/x-python",
   "name": "python",
   "nbconvert_exporter": "python",
   "pygments_lexer": "ipython3",
   "version": "3.9.16"
  }
 },
 "nbformat": 4,
 "nbformat_minor": 5
}
