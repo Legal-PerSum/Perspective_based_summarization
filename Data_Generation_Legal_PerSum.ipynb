{
 "cells": [
  {
   "cell_type": "code",
   "execution_count": null,
   "metadata": {
    "id": "NeAlvqquexcW"
   },
   "outputs": [],
   "source": [
    "# !pip install pandas\n",
    "# !pip install openai\n",
    "# !pip install python-dotenv\n",
    "import pandas as pd\n",
    "import openai\n",
    "from dotenv import load_dotenv\n",
    "import os\n",
    "from tqdm import tqdm\n",
    "import multiprocessing\n",
    "import shutil"
   ]
  },
  {
   "cell_type": "code",
   "execution_count": null,
   "metadata": {
    "id": "TPYI4xG3e1q_"
   },
   "outputs": [],
   "source": [
    "load_dotenv()"
   ]
  },
  {
   "cell_type": "code",
   "execution_count": null,
   "metadata": {
    "id": "SWnfqKCke1ou"
   },
   "outputs": [],
   "source": [
    "openai.api_key = \"Your_OpenAI_Key\"\n",
    "\n",
    "# Copying the data to the ../data/generated folder using python\n",
    "shutil.copy('source_path', 'target_path')\n",
    "\n",
    "\n",
    "# Creating a global lock for file writing\n",
    "lock = multiprocessing.Lock()\n",
    "\n",
    "\n",
    "\n",
    "\n",
    "def get_response(system_prompt, user_prompt):\n",
    "    \"\"\"Get the response from the OpenAI API.\"\"\"\n",
    "    response = openai.ChatCompletion.create(\n",
    "              model=\"gpt-3.5-turbo-16k\",\n",
    "            # model=\"gpt-4\",\n",
    "              messages=[{\"role\": \"system\", \"content\": system_prompt},\n",
    "                        {\"role\": \"user\", \"content\": user_prompt},\n",
    "                        ])\n",
    "\n",
    "    message = response[\"choices\"][0][\"message\"][\"content\"]\n",
    "    return message\n",
    "\n",
    "\n",
    "def generate(judgement_text):\n",
    "    \"\"\"Generate the response from the OpenAI API.\"\"\"\n",
    "\n",
    "    # Give general instructions in the system prompt\n",
    "    system_prompt = \"\"\"Your task is to generate nuanced, perspective-based summaries for given legal judgment texts from Indian Supreme Court cases. A 'perspective-based summary' aims to provide a multi-faceted understanding of the judgment. It should include a critical analysis of legal reasoning, implications for future cases, the impact on the parties involved, and broader emotional, social, or political implications. This goes beyond simply summarizing the judgment's facts and findings.\"\"\"\n",
    "\n",
    "    # Give more specific instructions in the user prompt and also provide the judgement text\n",
    "    user_prompt = \"\"\"Consider the following Indian Supreme Court case judgment text: Generate a perspective-based summary for the above judgment text in the perspective of:\n",
    "\n",
    "1. The Initiator (e.g., Petitioner / Appellant / Prosecution):\n",
    "Your summary should cover these areas:\n",
    "-Legal Strengths: Identify legal precedents, statutes, or rules that the judgment confirms or establishes in favor of the initiator.\n",
    "-Evidentiary Gains: Discuss how the judgment impacts the admissibility or weight of key evidence presented by the initiator.\n",
    "-Judicial Reasoning: Comment on the judge’s reasoning that aligns with or strengthens the initiator’s arguments.\n",
    "Additionally, feel free to consider other significant factors not listed here that impact the initiator’s case.\n",
    "\n",
    "2. The Respondent (e.g., Defendant / Accused / Opposition Party):\n",
    "Your summary should cover these areas:\n",
    "-Legal Strengths: Identify legal precedents, statutes, or rules that the judgment confirms or establishes in favor of the respondent.\n",
    "-Evidentiary Gains: Discuss elements in the judgment that question the admissibility or reliability of the initiator’s evidence.\n",
    "-Judicial Reasoning: Highlight portions of the judge’s reasoning that are favorable to the respondent or offer grounds for an appeal.\n",
    "Also, you should incorporate any other crucial aspects not explicitly mentioned that could affect the respondent’s perspective.\n",
    "\n",
    "Note:\n",
    "\n",
    "The summaries should offer nuanced insights specific to each role and not merely serve as mirror opposites.\n",
    "\n",
    "Keep the tone academic and the perspective in the third person.\n",
    "Format your response as a single JSON object with two properties: initiator and respondent. Each should encapsulate the relevant perspectives in a detailed, coherent manner and should be at least 150 words long each.\n",
    "{{\n",
    "  \"initiator\": \"From the viewpoint of the initiator, the judgment affirms that interest accrued—even if not realized in cash—must be included in the assessee's net wealth as per the Wealth Tax Act. This reinforces the legal principle that statutory obligations cannot be avoided based on the method of accounting, thereby strengthening the prosecution’s argument. The court's acceptance of accrued interest as valid evidence adds substantial weight to financial records reflecting potential but unrealized income. Judicial reasoning favored a strict interpretation of ‘net wealth,’ aligning with the initiator’s case, and emphasized the relevance of economic value on the valuation date over actual receipt. This decision enhances the initiator’s ability to pursue hidden or deferred assets under tax obligations.\", \n",
    "  \"respondent\": \"From the respondent’s perspective, the judgment acknowledges conflicting interpretations across different High Courts, which opens avenues for challenging the Supreme Court’s stance. Although the judgment does not dismiss the evidence submitted by the initiator, it implicitly raises the issue of how accounting systems influence tax liabilities. The respondent can leverage the observed judicial acknowledgment of legal ambiguities as a basis for appeal. The defense may argue that applying the Wealth Tax Act without considering the assessee’s cash-based accounting could be unfair and lacking nuance. This case thus serves as a potential basis for arguing for harmonization of judicial interpretations in future disputes involving accrual versus cash accounting principles.\"\n",
    "}}\n",
    "    \"\"\".format(judgement_text)\n",
    "\n",
    "    return get_response(system_prompt, user_prompt)\n",
    "\n",
    "\n",
    "def generate_and_save(args):\n",
    "    index, judgement, filepath = args\n",
    "    try:\n",
    "        new_text = generate(judgement)\n",
    "        # Save the result immediately\n",
    "        with lock:\n",
    "            df = pd.read_csv(filepath)\n",
    "            df.at[index, 'GeneratedText'] = new_text\n",
    "            df.to_csv(filepath, index=False)\n",
    "        return (index, new_text)\n",
    "    except Exception as e:\n",
    "        return (index, None)\n",
    "\n",
    "\n",
    "def generate_and_save_parallelly(filepath):\n",
    "\n",
    "    try:\n",
    "        # Loading the CSV into a DataFrame\n",
    "        df = pd.read_csv(filepath)\n",
    "\n",
    "        if 'Target_Column' not in df.columns:\n",
    "            df['Target_Column'] = None\n",
    "\n",
    "        to_generate = [(index, row['Text'], filepath) for index, row in df.iterrows() if pd.isnull(row['Target_Column']) or row['Target_Column'] == \"\"]\n",
    "\n",
    "        with multiprocessing.Pool(processes=multiprocessing.cpu_count()) as pool:\n",
    "            list(tqdm(pool.imap(generate_and_save, to_generate), total=len(to_generate), desc=\"Generating text\"))\n",
    "\n",
    "        # Checking if all rows have been generated\n",
    "        df = pd.read_csv(filepath)\n",
    "        if df['Target_Column'].isnull().sum() == 0:\n",
    "            print(\"All rows have been generated.\")\n",
    "\n",
    "    except KeyboardInterrupt:\n",
    "        print(\"Process interrupted by user. Exiting...\")\n",
    "\n",
    "\n",
    "if __name__ == \"__main__\":\n",
    "    generate_and_save_parallelly(\"target_path\")"
   ]
  },
  {
   "cell_type": "code",
   "execution_count": null,
   "metadata": {
    "id": "-dKpiTMxe1fk"
   },
   "outputs": [],
   "source": []
  }
 ],
 "metadata": {
  "colab": {
   "authorship_tag": "ABX9TyPSkGMUU2qVbj5iUUwyhjU1",
   "provenance": []
  },
  "kernelspec": {
   "display_name": "Python 3",
   "name": "python3"
  },
  "language_info": {
   "name": "python"
  }
 },
 "nbformat": 4,
 "nbformat_minor": 0
}
