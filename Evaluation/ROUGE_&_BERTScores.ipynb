{
 "cells": [
  {
   "cell_type": "markdown",
   "metadata": {
    "id": "yIINfSecRLmr"
   },
   "source": [
    "### *Loading the fine-tuned model*"
   ]
  },
  {
   "cell_type": "markdown",
   "metadata": {
    "id": "aXJIsOHvRShD"
   },
   "source": [
    "### *Installing the requirements*"
   ]
  },
  {
   "cell_type": "code",
   "execution_count": null,
   "metadata": {
    "colab": {
     "base_uri": "https://localhost:8080/"
    },
    "executionInfo": {
     "elapsed": 15698,
     "status": "ok",
     "timestamp": 1731210104579,
     "user": {
      "displayName": "Subhadeep Roy",
      "userId": "17497009744531424591"
     },
     "user_tz": 0
    },
    "id": "fJaNfd50Q7xd",
    "outputId": "31e2dcb7-dd82-410b-fbd5-33a15b9bc599"
   },
   "outputs": [],
   "source": [
    "! pip install -qqq datasets rouge-score bert-score"
   ]
  },
  {
   "cell_type": "code",
   "execution_count": null,
   "metadata": {
    "id": "PLEfagb4RAYw"
   },
   "outputs": [],
   "source": [
    "import pandas as pd\n",
    "import torch\n",
    "import bert_score\n",
    "from datasets import Dataset\n",
    "from rouge_score import rouge_scorer"
   ]
  },
  {
   "cell_type": "markdown",
   "metadata": {
    "id": "hhBVrm62RXgN"
   },
   "source": [
    "### *Loading the dataset*"
   ]
  },
  {
   "cell_type": "code",
   "execution_count": null,
   "metadata": {
    "id": "Sl0YR4bKRlNw"
   },
   "outputs": [],
   "source": [
    "#@title Function to calculate ROUGE scores\n",
    "\n",
    "# Initialize the ROUGE scorer\n",
    "scorer = rouge_scorer.RougeScorer(['rouge1', 'rouge2', 'rougeL'], use_stemmer=True)\n",
    "\n",
    "def calculate_rouge_scores(reference, hypothesis):\n",
    "    scores = scorer.score(reference, hypothesis)\n",
    "    return {\n",
    "        'rouge1_precision': scores['rouge1'].precision,\n",
    "        'rouge1_recall': scores['rouge1'].recall,\n",
    "        'rouge1_f1': scores['rouge1'].fmeasure,\n",
    "        'rouge2_precision': scores['rouge2'].precision,\n",
    "        'rouge2_recall': scores['rouge2'].recall,\n",
    "        'rouge2_f1': scores['rouge2'].fmeasure,\n",
    "        'rougeL_precision': scores['rougeL'].precision,\n",
    "        'rougeL_recall': scores['rougeL'].recall,\n",
    "        'rougeL_f1': scores['rougeL'].fmeasure\n",
    "    }"
   ]
  },
  {
   "cell_type": "code",
   "execution_count": null,
   "metadata": {
    "id": "QpVZiFNuEU4J"
   },
   "outputs": [],
   "source": [
    "test_df = pd.read_csv(\"Model_output.csv\")\n",
    "test_df_dataset = Dataset.from_pandas(test_df)"
   ]
  },
  {
   "cell_type": "code",
   "execution_count": null,
   "metadata": {
    "id": "8LugxQJyRrrf"
   },
   "outputs": [],
   "source": [
    "from tqdm import tqdm\n",
    "\n",
    "predictions = df[\"model_predictions\"].tolist()\n",
    "\n",
    "# Calculate ROUGE scores\n",
    "results = []\n",
    "\n",
    "for i, (row, prediction) in tqdm(enumerate(zip(test_df_dataset, predictions)), total=len(predictions), desc=\"Calculating ROUGE scores\"):\n",
    "    summary = row[\"Perspective-based Summary\"]\n",
    "    rouge_scores = calculate_rouge_scores(summary, prediction)\n",
    "    results.append(rouge_scores)"
   ]
  },
  {
   "cell_type": "code",
   "execution_count": null,
   "metadata": {
    "id": "MCPeQfCqSNTw"
   },
   "outputs": [],
   "source": [
    "# Convert the results into a DataFrame\n",
    "results_df = pd.DataFrame(results)"
   ]
  },
  {
   "cell_type": "code",
   "execution_count": null,
   "metadata": {
    "id": "1J2dFhPNExG4"
   },
   "outputs": [],
   "source": [
    "# Merge the actual dataset and the adjusted scores dataset on the index\n",
    "merged_df = pd.merge(test_df, results_df, left_index=True, right_index=True)"
   ]
  },
  {
   "cell_type": "markdown",
   "metadata": {
    "id": "Isl6ZWOqSkNk"
   },
   "source": [
    "### *BERT Score*"
   ]
  },
  {
   "cell_type": "code",
   "execution_count": null,
   "metadata": {
    "colab": {
     "base_uri": "https://localhost:8080/"
    },
    "executionInfo": {
     "elapsed": 3,
     "status": "ok",
     "timestamp": 1731210577359,
     "user": {
      "displayName": "Subhadeep Roy",
      "userId": "17497009744531424591"
     },
     "user_tz": 0
    },
    "id": "wKXoX1lfcOrQ",
    "outputId": "b1444968-5118-40c7-b28e-df5abbd2abae"
   },
   "outputs": [],
   "source": [
    "import torch\n",
    "device = torch.device(\"cuda\" if torch.cuda.is_available() else \"cpu\")\n",
    "device"
   ]
  },
  {
   "cell_type": "code",
   "execution_count": null,
   "metadata": {
    "colab": {
     "base_uri": "https://localhost:8080/",
     "height": 237,
     "referenced_widgets": [
      "b0899f3162f5424f8b006f6ed09bcd38",
      "65e27469e6934493861450cb0a47b49f",
      "671a33f76e7740bfb77b5f1f110c606e",
      "bfc7fcab1ae74654bc212a08ccdbce7c",
      "95d8bc17d64848418064f9b1158f7f82",
      "f9dc4e9ff8c14886922cdae8aa43f7b2",
      "9f8e9279443b46489d1f84b1a69f5f11",
      "c7e63545e950454b906bda69b00c77e2",
      "ce2e86f7ddee4ba29de4812d31775007",
      "6d12d4b7633a4246ad08f48ff214292f",
      "4f29d364aa114ea28ea539ebf43b07cc",
      "6de5a5b17ee44301ae9cfebbcd256703",
      "09c60eb7251a43399f1951b4743dea6a",
      "f13516694d6543a4a2ac7707c6368b6c",
      "e1e6590071f7403895a7d2e9ceed5e9e",
      "3108fe0cddc84900a340fccbb1f4ef16",
      "9548fc1621cc45d3915d85002f5ef957",
      "2bf36fc9f2844b919f3422084865bffe",
      "01347a20ac214d568825ddaa8dd0830c",
      "95c08b1e59ef47a2ba3b74292d7dfbb6",
      "5523b343a8a24ae2aec1fa8a5c060ecf",
      "2804c481748f4f8c9743850a16ae72eb"
     ]
    },
    "executionInfo": {
     "elapsed": 7050,
     "status": "ok",
     "timestamp": 1731210586557,
     "user": {
      "displayName": "Subhadeep Roy",
      "userId": "17497009744531424591"
     },
     "user_tz": 0
    },
    "id": "ts3C9MgMSpZ7",
    "outputId": "ff23b8b7-60a0-43c6-b97c-c226192ca671"
   },
   "outputs": [],
   "source": [
    "summary = merged_df[\"Perspective-based Summary\"].tolist() # actual summary\n",
    "\n",
    "# Compute BERTScore\n",
    "precision, recall, f1 = bert_score.score(summary, predictions, lang='en', verbose=True, device=device)"
   ]
  },
  {
   "cell_type": "code",
   "execution_count": null,
   "metadata": {
    "id": "KCgD1uCaSpXP"
   },
   "outputs": [],
   "source": [
    "# Add BERTScore to the DataFrame\n",
    "merged_df['BERTScore_Precision'] = precision.numpy()\n",
    "merged_df['BERTScore_Recall'] = recall.numpy()\n",
    "merged_df['BERTScore_F1'] = f1.numpy()"
   ]
  },
  {
   "cell_type": "markdown",
   "metadata": {
    "id": "O17v3b6N7aeI"
   },
   "source": [
    "### *Saving the scores*"
   ]
  },
  {
   "cell_type": "code",
   "execution_count": null,
   "metadata": {
    "id": "EAJuPjX9ScBZ"
   },
   "outputs": [],
   "source": [
    "# Save the result to a new CSV file\n",
    "merged_df.to_csv('Evaluation_scores.csv', index=False)"
   ]
  },
  {
   "cell_type": "markdown",
   "metadata": {
    "id": "-PStCXQ_quyD"
   },
   "source": [
    "### *Overall Average Scores*"
   ]
  },
  {
   "cell_type": "code",
   "execution_count": null,
   "metadata": {
    "id": "WsTMjtW451Jv"
   },
   "outputs": [],
   "source": [
    "df = pd.read_csv('Evaluation_scores.csv')"
   ]
  },
  {
   "cell_type": "code",
   "execution_count": null,
   "metadata": {
    "id": "n7tu6W7Rq413"
   },
   "outputs": [],
   "source": [
    "# Calculate aggregated results\n",
    "aggregated_results = {\n",
    "    'rouge1_precision': df['rouge1_precision'].mean(),\n",
    "    'rouge1_recall': df['rouge1_recall'].mean(),\n",
    "    'rouge1_f1': df['rouge1_f1'].mean(),\n",
    "    'rouge2_precision': df['rouge2_precision'].mean(),\n",
    "    'rouge2_recall': df['rouge2_recall'].mean(),\n",
    "    'rouge2_f1': df['rouge2_f1'].mean(),\n",
    "    'rougeL_precision': df['rougeL_precision'].mean(),\n",
    "    'rougeL_recall': df['rougeL_recall'].mean(),\n",
    "    'rougeL_f1': df['rougeL_f1'].mean(),\n",
    "    'BERTScore_Precision': df['BERTScore_Precision'].mean(),\n",
    "    'BERTScore_Recall': df['BERTScore_Recall'].mean(),\n",
    "    'BERTScore_F1': df['BERTScore_F1'].mean()\n",
    "}\n",
    "aggregated_rouge_scores = pd.DataFrame(aggregated_results, index=['Value'])\n",
    "aggregated_rouge_scores"
   ]
  },
  {
   "cell_type": "code",
   "execution_count": null,
   "metadata": {
    "id": "1AEo7FFJpaw0"
   },
   "outputs": [],
   "source": []
  }
 ],
 "metadata": {
  "accelerator": "GPU",
  "colab": {
   "authorship_tag": "ABX9TyOtXRBIHlm/BZ3kHHiPJBUg",
   "gpuType": "T4",
   "provenance": [
    {
     "file_id": "1iL7gWaGxBQUE5cCu0iPegKTwbK6tO4fW",
     "timestamp": 1722991888170
    }
   ]
  },
  "kernelspec": {
   "display_name": "Python 3",
   "name": "python3"
  },
  "language_info": {
   "name": "python"
  },
  "widgets": {
   "application/vnd.jupyter.widget-state+json": {
    "01347a20ac214d568825ddaa8dd0830c": {
     "model_module": "@jupyter-widgets/base",
     "model_module_version": "1.2.0",
     "model_name": "LayoutModel",
     "state": {
      "_model_module": "@jupyter-widgets/base",
      "_model_module_version": "1.2.0",
      "_model_name": "LayoutModel",
      "_view_count": null,
      "_view_module": "@jupyter-widgets/base",
      "_view_module_version": "1.2.0",
      "_view_name": "LayoutView",
      "align_content": null,
      "align_items": null,
      "align_self": null,
      "border": null,
      "bottom": null,
      "display": null,
      "flex": null,
      "flex_flow": null,
      "grid_area": null,
      "grid_auto_columns": null,
      "grid_auto_flow": null,
      "grid_auto_rows": null,
      "grid_column": null,
      "grid_gap": null,
      "grid_row": null,
      "grid_template_areas": null,
      "grid_template_columns": null,
      "grid_template_rows": null,
      "height": null,
      "justify_content": null,
      "justify_items": null,
      "left": null,
      "margin": null,
      "max_height": null,
      "max_width": null,
      "min_height": null,
      "min_width": null,
      "object_fit": null,
      "object_position": null,
      "order": null,
      "overflow": null,
      "overflow_x": null,
      "overflow_y": null,
      "padding": null,
      "right": null,
      "top": null,
      "visibility": null,
      "width": null
     }
    },
    "09c60eb7251a43399f1951b4743dea6a": {
     "model_module": "@jupyter-widgets/controls",
     "model_module_version": "1.5.0",
     "model_name": "HTMLModel",
     "state": {
      "_dom_classes": [],
      "_model_module": "@jupyter-widgets/controls",
      "_model_module_version": "1.5.0",
      "_model_name": "HTMLModel",
      "_view_count": null,
      "_view_module": "@jupyter-widgets/controls",
      "_view_module_version": "1.5.0",
      "_view_name": "HTMLView",
      "description": "",
      "description_tooltip": null,
      "layout": "IPY_MODEL_9548fc1621cc45d3915d85002f5ef957",
      "placeholder": "​",
      "style": "IPY_MODEL_2bf36fc9f2844b919f3422084865bffe",
      "value": "100%"
     }
    },
    "2804c481748f4f8c9743850a16ae72eb": {
     "model_module": "@jupyter-widgets/controls",
     "model_module_version": "1.5.0",
     "model_name": "DescriptionStyleModel",
     "state": {
      "_model_module": "@jupyter-widgets/controls",
      "_model_module_version": "1.5.0",
      "_model_name": "DescriptionStyleModel",
      "_view_count": null,
      "_view_module": "@jupyter-widgets/base",
      "_view_module_version": "1.2.0",
      "_view_name": "StyleView",
      "description_width": ""
     }
    },
    "2bf36fc9f2844b919f3422084865bffe": {
     "model_module": "@jupyter-widgets/controls",
     "model_module_version": "1.5.0",
     "model_name": "DescriptionStyleModel",
     "state": {
      "_model_module": "@jupyter-widgets/controls",
      "_model_module_version": "1.5.0",
      "_model_name": "DescriptionStyleModel",
      "_view_count": null,
      "_view_module": "@jupyter-widgets/base",
      "_view_module_version": "1.2.0",
      "_view_name": "StyleView",
      "description_width": ""
     }
    },
    "3108fe0cddc84900a340fccbb1f4ef16": {
     "model_module": "@jupyter-widgets/base",
     "model_module_version": "1.2.0",
     "model_name": "LayoutModel",
     "state": {
      "_model_module": "@jupyter-widgets/base",
      "_model_module_version": "1.2.0",
      "_model_name": "LayoutModel",
      "_view_count": null,
      "_view_module": "@jupyter-widgets/base",
      "_view_module_version": "1.2.0",
      "_view_name": "LayoutView",
      "align_content": null,
      "align_items": null,
      "align_self": null,
      "border": null,
      "bottom": null,
      "display": null,
      "flex": null,
      "flex_flow": null,
      "grid_area": null,
      "grid_auto_columns": null,
      "grid_auto_flow": null,
      "grid_auto_rows": null,
      "grid_column": null,
      "grid_gap": null,
      "grid_row": null,
      "grid_template_areas": null,
      "grid_template_columns": null,
      "grid_template_rows": null,
      "height": null,
      "justify_content": null,
      "justify_items": null,
      "left": null,
      "margin": null,
      "max_height": null,
      "max_width": null,
      "min_height": null,
      "min_width": null,
      "object_fit": null,
      "object_position": null,
      "order": null,
      "overflow": null,
      "overflow_x": null,
      "overflow_y": null,
      "padding": null,
      "right": null,
      "top": null,
      "visibility": null,
      "width": null
     }
    },
    "4f29d364aa114ea28ea539ebf43b07cc": {
     "model_module": "@jupyter-widgets/controls",
     "model_module_version": "1.5.0",
     "model_name": "DescriptionStyleModel",
     "state": {
      "_model_module": "@jupyter-widgets/controls",
      "_model_module_version": "1.5.0",
      "_model_name": "DescriptionStyleModel",
      "_view_count": null,
      "_view_module": "@jupyter-widgets/base",
      "_view_module_version": "1.2.0",
      "_view_name": "StyleView",
      "description_width": ""
     }
    },
    "5523b343a8a24ae2aec1fa8a5c060ecf": {
     "model_module": "@jupyter-widgets/base",
     "model_module_version": "1.2.0",
     "model_name": "LayoutModel",
     "state": {
      "_model_module": "@jupyter-widgets/base",
      "_model_module_version": "1.2.0",
      "_model_name": "LayoutModel",
      "_view_count": null,
      "_view_module": "@jupyter-widgets/base",
      "_view_module_version": "1.2.0",
      "_view_name": "LayoutView",
      "align_content": null,
      "align_items": null,
      "align_self": null,
      "border": null,
      "bottom": null,
      "display": null,
      "flex": null,
      "flex_flow": null,
      "grid_area": null,
      "grid_auto_columns": null,
      "grid_auto_flow": null,
      "grid_auto_rows": null,
      "grid_column": null,
      "grid_gap": null,
      "grid_row": null,
      "grid_template_areas": null,
      "grid_template_columns": null,
      "grid_template_rows": null,
      "height": null,
      "justify_content": null,
      "justify_items": null,
      "left": null,
      "margin": null,
      "max_height": null,
      "max_width": null,
      "min_height": null,
      "min_width": null,
      "object_fit": null,
      "object_position": null,
      "order": null,
      "overflow": null,
      "overflow_x": null,
      "overflow_y": null,
      "padding": null,
      "right": null,
      "top": null,
      "visibility": null,
      "width": null
     }
    },
    "65e27469e6934493861450cb0a47b49f": {
     "model_module": "@jupyter-widgets/controls",
     "model_module_version": "1.5.0",
     "model_name": "HTMLModel",
     "state": {
      "_dom_classes": [],
      "_model_module": "@jupyter-widgets/controls",
      "_model_module_version": "1.5.0",
      "_model_name": "HTMLModel",
      "_view_count": null,
      "_view_module": "@jupyter-widgets/controls",
      "_view_module_version": "1.5.0",
      "_view_name": "HTMLView",
      "description": "",
      "description_tooltip": null,
      "layout": "IPY_MODEL_f9dc4e9ff8c14886922cdae8aa43f7b2",
      "placeholder": "​",
      "style": "IPY_MODEL_9f8e9279443b46489d1f84b1a69f5f11",
      "value": "100%"
     }
    },
    "671a33f76e7740bfb77b5f1f110c606e": {
     "model_module": "@jupyter-widgets/controls",
     "model_module_version": "1.5.0",
     "model_name": "FloatProgressModel",
     "state": {
      "_dom_classes": [],
      "_model_module": "@jupyter-widgets/controls",
      "_model_module_version": "1.5.0",
      "_model_name": "FloatProgressModel",
      "_view_count": null,
      "_view_module": "@jupyter-widgets/controls",
      "_view_module_version": "1.5.0",
      "_view_name": "ProgressView",
      "bar_style": "success",
      "description": "",
      "description_tooltip": null,
      "layout": "IPY_MODEL_c7e63545e950454b906bda69b00c77e2",
      "max": 4,
      "min": 0,
      "orientation": "horizontal",
      "style": "IPY_MODEL_ce2e86f7ddee4ba29de4812d31775007",
      "value": 4
     }
    },
    "6d12d4b7633a4246ad08f48ff214292f": {
     "model_module": "@jupyter-widgets/base",
     "model_module_version": "1.2.0",
     "model_name": "LayoutModel",
     "state": {
      "_model_module": "@jupyter-widgets/base",
      "_model_module_version": "1.2.0",
      "_model_name": "LayoutModel",
      "_view_count": null,
      "_view_module": "@jupyter-widgets/base",
      "_view_module_version": "1.2.0",
      "_view_name": "LayoutView",
      "align_content": null,
      "align_items": null,
      "align_self": null,
      "border": null,
      "bottom": null,
      "display": null,
      "flex": null,
      "flex_flow": null,
      "grid_area": null,
      "grid_auto_columns": null,
      "grid_auto_flow": null,
      "grid_auto_rows": null,
      "grid_column": null,
      "grid_gap": null,
      "grid_row": null,
      "grid_template_areas": null,
      "grid_template_columns": null,
      "grid_template_rows": null,
      "height": null,
      "justify_content": null,
      "justify_items": null,
      "left": null,
      "margin": null,
      "max_height": null,
      "max_width": null,
      "min_height": null,
      "min_width": null,
      "object_fit": null,
      "object_position": null,
      "order": null,
      "overflow": null,
      "overflow_x": null,
      "overflow_y": null,
      "padding": null,
      "right": null,
      "top": null,
      "visibility": null,
      "width": null
     }
    },
    "6de5a5b17ee44301ae9cfebbcd256703": {
     "model_module": "@jupyter-widgets/controls",
     "model_module_version": "1.5.0",
     "model_name": "HBoxModel",
     "state": {
      "_dom_classes": [],
      "_model_module": "@jupyter-widgets/controls",
      "_model_module_version": "1.5.0",
      "_model_name": "HBoxModel",
      "_view_count": null,
      "_view_module": "@jupyter-widgets/controls",
      "_view_module_version": "1.5.0",
      "_view_name": "HBoxView",
      "box_style": "",
      "children": [
       "IPY_MODEL_09c60eb7251a43399f1951b4743dea6a",
       "IPY_MODEL_f13516694d6543a4a2ac7707c6368b6c",
       "IPY_MODEL_e1e6590071f7403895a7d2e9ceed5e9e"
      ],
      "layout": "IPY_MODEL_3108fe0cddc84900a340fccbb1f4ef16"
     }
    },
    "9548fc1621cc45d3915d85002f5ef957": {
     "model_module": "@jupyter-widgets/base",
     "model_module_version": "1.2.0",
     "model_name": "LayoutModel",
     "state": {
      "_model_module": "@jupyter-widgets/base",
      "_model_module_version": "1.2.0",
      "_model_name": "LayoutModel",
      "_view_count": null,
      "_view_module": "@jupyter-widgets/base",
      "_view_module_version": "1.2.0",
      "_view_name": "LayoutView",
      "align_content": null,
      "align_items": null,
      "align_self": null,
      "border": null,
      "bottom": null,
      "display": null,
      "flex": null,
      "flex_flow": null,
      "grid_area": null,
      "grid_auto_columns": null,
      "grid_auto_flow": null,
      "grid_auto_rows": null,
      "grid_column": null,
      "grid_gap": null,
      "grid_row": null,
      "grid_template_areas": null,
      "grid_template_columns": null,
      "grid_template_rows": null,
      "height": null,
      "justify_content": null,
      "justify_items": null,
      "left": null,
      "margin": null,
      "max_height": null,
      "max_width": null,
      "min_height": null,
      "min_width": null,
      "object_fit": null,
      "object_position": null,
      "order": null,
      "overflow": null,
      "overflow_x": null,
      "overflow_y": null,
      "padding": null,
      "right": null,
      "top": null,
      "visibility": null,
      "width": null
     }
    },
    "95c08b1e59ef47a2ba3b74292d7dfbb6": {
     "model_module": "@jupyter-widgets/controls",
     "model_module_version": "1.5.0",
     "model_name": "ProgressStyleModel",
     "state": {
      "_model_module": "@jupyter-widgets/controls",
      "_model_module_version": "1.5.0",
      "_model_name": "ProgressStyleModel",
      "_view_count": null,
      "_view_module": "@jupyter-widgets/base",
      "_view_module_version": "1.2.0",
      "_view_name": "StyleView",
      "bar_color": null,
      "description_width": ""
     }
    },
    "95d8bc17d64848418064f9b1158f7f82": {
     "model_module": "@jupyter-widgets/base",
     "model_module_version": "1.2.0",
     "model_name": "LayoutModel",
     "state": {
      "_model_module": "@jupyter-widgets/base",
      "_model_module_version": "1.2.0",
      "_model_name": "LayoutModel",
      "_view_count": null,
      "_view_module": "@jupyter-widgets/base",
      "_view_module_version": "1.2.0",
      "_view_name": "LayoutView",
      "align_content": null,
      "align_items": null,
      "align_self": null,
      "border": null,
      "bottom": null,
      "display": null,
      "flex": null,
      "flex_flow": null,
      "grid_area": null,
      "grid_auto_columns": null,
      "grid_auto_flow": null,
      "grid_auto_rows": null,
      "grid_column": null,
      "grid_gap": null,
      "grid_row": null,
      "grid_template_areas": null,
      "grid_template_columns": null,
      "grid_template_rows": null,
      "height": null,
      "justify_content": null,
      "justify_items": null,
      "left": null,
      "margin": null,
      "max_height": null,
      "max_width": null,
      "min_height": null,
      "min_width": null,
      "object_fit": null,
      "object_position": null,
      "order": null,
      "overflow": null,
      "overflow_x": null,
      "overflow_y": null,
      "padding": null,
      "right": null,
      "top": null,
      "visibility": null,
      "width": null
     }
    },
    "9f8e9279443b46489d1f84b1a69f5f11": {
     "model_module": "@jupyter-widgets/controls",
     "model_module_version": "1.5.0",
     "model_name": "DescriptionStyleModel",
     "state": {
      "_model_module": "@jupyter-widgets/controls",
      "_model_module_version": "1.5.0",
      "_model_name": "DescriptionStyleModel",
      "_view_count": null,
      "_view_module": "@jupyter-widgets/base",
      "_view_module_version": "1.2.0",
      "_view_name": "StyleView",
      "description_width": ""
     }
    },
    "b0899f3162f5424f8b006f6ed09bcd38": {
     "model_module": "@jupyter-widgets/controls",
     "model_module_version": "1.5.0",
     "model_name": "HBoxModel",
     "state": {
      "_dom_classes": [],
      "_model_module": "@jupyter-widgets/controls",
      "_model_module_version": "1.5.0",
      "_model_name": "HBoxModel",
      "_view_count": null,
      "_view_module": "@jupyter-widgets/controls",
      "_view_module_version": "1.5.0",
      "_view_name": "HBoxView",
      "box_style": "",
      "children": [
       "IPY_MODEL_65e27469e6934493861450cb0a47b49f",
       "IPY_MODEL_671a33f76e7740bfb77b5f1f110c606e",
       "IPY_MODEL_bfc7fcab1ae74654bc212a08ccdbce7c"
      ],
      "layout": "IPY_MODEL_95d8bc17d64848418064f9b1158f7f82"
     }
    },
    "bfc7fcab1ae74654bc212a08ccdbce7c": {
     "model_module": "@jupyter-widgets/controls",
     "model_module_version": "1.5.0",
     "model_name": "HTMLModel",
     "state": {
      "_dom_classes": [],
      "_model_module": "@jupyter-widgets/controls",
      "_model_module_version": "1.5.0",
      "_model_name": "HTMLModel",
      "_view_count": null,
      "_view_module": "@jupyter-widgets/controls",
      "_view_module_version": "1.5.0",
      "_view_name": "HTMLView",
      "description": "",
      "description_tooltip": null,
      "layout": "IPY_MODEL_6d12d4b7633a4246ad08f48ff214292f",
      "placeholder": "​",
      "style": "IPY_MODEL_4f29d364aa114ea28ea539ebf43b07cc",
      "value": " 4/4 [00:04&lt;00:00,  1.35s/it]"
     }
    },
    "c7e63545e950454b906bda69b00c77e2": {
     "model_module": "@jupyter-widgets/base",
     "model_module_version": "1.2.0",
     "model_name": "LayoutModel",
     "state": {
      "_model_module": "@jupyter-widgets/base",
      "_model_module_version": "1.2.0",
      "_model_name": "LayoutModel",
      "_view_count": null,
      "_view_module": "@jupyter-widgets/base",
      "_view_module_version": "1.2.0",
      "_view_name": "LayoutView",
      "align_content": null,
      "align_items": null,
      "align_self": null,
      "border": null,
      "bottom": null,
      "display": null,
      "flex": null,
      "flex_flow": null,
      "grid_area": null,
      "grid_auto_columns": null,
      "grid_auto_flow": null,
      "grid_auto_rows": null,
      "grid_column": null,
      "grid_gap": null,
      "grid_row": null,
      "grid_template_areas": null,
      "grid_template_columns": null,
      "grid_template_rows": null,
      "height": null,
      "justify_content": null,
      "justify_items": null,
      "left": null,
      "margin": null,
      "max_height": null,
      "max_width": null,
      "min_height": null,
      "min_width": null,
      "object_fit": null,
      "object_position": null,
      "order": null,
      "overflow": null,
      "overflow_x": null,
      "overflow_y": null,
      "padding": null,
      "right": null,
      "top": null,
      "visibility": null,
      "width": null
     }
    },
    "ce2e86f7ddee4ba29de4812d31775007": {
     "model_module": "@jupyter-widgets/controls",
     "model_module_version": "1.5.0",
     "model_name": "ProgressStyleModel",
     "state": {
      "_model_module": "@jupyter-widgets/controls",
      "_model_module_version": "1.5.0",
      "_model_name": "ProgressStyleModel",
      "_view_count": null,
      "_view_module": "@jupyter-widgets/base",
      "_view_module_version": "1.2.0",
      "_view_name": "StyleView",
      "bar_color": null,
      "description_width": ""
     }
    },
    "e1e6590071f7403895a7d2e9ceed5e9e": {
     "model_module": "@jupyter-widgets/controls",
     "model_module_version": "1.5.0",
     "model_name": "HTMLModel",
     "state": {
      "_dom_classes": [],
      "_model_module": "@jupyter-widgets/controls",
      "_model_module_version": "1.5.0",
      "_model_name": "HTMLModel",
      "_view_count": null,
      "_view_module": "@jupyter-widgets/controls",
      "_view_module_version": "1.5.0",
      "_view_name": "HTMLView",
      "description": "",
      "description_tooltip": null,
      "layout": "IPY_MODEL_5523b343a8a24ae2aec1fa8a5c060ecf",
      "placeholder": "​",
      "style": "IPY_MODEL_2804c481748f4f8c9743850a16ae72eb",
      "value": " 2/2 [00:00&lt;00:00, 14.82it/s]"
     }
    },
    "f13516694d6543a4a2ac7707c6368b6c": {
     "model_module": "@jupyter-widgets/controls",
     "model_module_version": "1.5.0",
     "model_name": "FloatProgressModel",
     "state": {
      "_dom_classes": [],
      "_model_module": "@jupyter-widgets/controls",
      "_model_module_version": "1.5.0",
      "_model_name": "FloatProgressModel",
      "_view_count": null,
      "_view_module": "@jupyter-widgets/controls",
      "_view_module_version": "1.5.0",
      "_view_name": "ProgressView",
      "bar_style": "success",
      "description": "",
      "description_tooltip": null,
      "layout": "IPY_MODEL_01347a20ac214d568825ddaa8dd0830c",
      "max": 2,
      "min": 0,
      "orientation": "horizontal",
      "style": "IPY_MODEL_95c08b1e59ef47a2ba3b74292d7dfbb6",
      "value": 2
     }
    },
    "f9dc4e9ff8c14886922cdae8aa43f7b2": {
     "model_module": "@jupyter-widgets/base",
     "model_module_version": "1.2.0",
     "model_name": "LayoutModel",
     "state": {
      "_model_module": "@jupyter-widgets/base",
      "_model_module_version": "1.2.0",
      "_model_name": "LayoutModel",
      "_view_count": null,
      "_view_module": "@jupyter-widgets/base",
      "_view_module_version": "1.2.0",
      "_view_name": "LayoutView",
      "align_content": null,
      "align_items": null,
      "align_self": null,
      "border": null,
      "bottom": null,
      "display": null,
      "flex": null,
      "flex_flow": null,
      "grid_area": null,
      "grid_auto_columns": null,
      "grid_auto_flow": null,
      "grid_auto_rows": null,
      "grid_column": null,
      "grid_gap": null,
      "grid_row": null,
      "grid_template_areas": null,
      "grid_template_columns": null,
      "grid_template_rows": null,
      "height": null,
      "justify_content": null,
      "justify_items": null,
      "left": null,
      "margin": null,
      "max_height": null,
      "max_width": null,
      "min_height": null,
      "min_width": null,
      "object_fit": null,
      "object_position": null,
      "order": null,
      "overflow": null,
      "overflow_x": null,
      "overflow_y": null,
      "padding": null,
      "right": null,
      "top": null,
      "visibility": null,
      "width": null
     }
    }
   }
  }
 },
 "nbformat": 4,
 "nbformat_minor": 0
}
